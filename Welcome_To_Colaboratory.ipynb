{
  "cells": [
    {
      "cell_type": "markdown",
      "metadata": {
        "id": "view-in-github",
        "colab_type": "text"
      },
      "source": [
        "<a href=\"https://colab.research.google.com/github/JaimeSanchezFirth/Biomedical-research---PRBB-20-21/blob/main/Welcome_To_Colaboratory.ipynb\" target=\"_parent\"><img src=\"https://colab.research.google.com/assets/colab-badge.svg\" alt=\"Open In Colab\"/></a>"
      ]
    },
    {
      "cell_type": "code",
      "source": [
        "import numpy as np\n",
        "from sklearn.cluster import KMeans\n",
        "\n",
        "# Number of succesful publications + clinical studies (numPub)\n",
        "numPub = np.array([[5], [5], [3], [4], [1], [1], [1], [1]])\n",
        "\n",
        "# Apply K-means clustering with K=3. The clusters represent the relevance of the task in FM (3='High', 2='Medium', 1='Low')\n",
        "#https://www.iebschool.com/blog/algoritmo-k-means-que-es-y-como-funciona-big-data/\n",
        "kmeans = KMeans(n_clusters=3, random_state=0)\n",
        "clusters = kmeans.fit_predict(numPub)\n",
        "tasks = ['SCWT', 'TMT', 'DS', 'RAVLT', 'N-Back', 'GNGT','d2', '5dt']\n",
        "for i, tasks in enumerate(tasks):\n",
        "  #Print the different clusters\n",
        "    print(f\"{tasks} - Cluster {clusters[i] + 1}\")"
      ],
      "metadata": {
        "id": "iePGF0521C0s",
        "outputId": "507da491-1505-4cb6-ab33-585403cef140",
        "colab": {
          "base_uri": "https://localhost:8080/"
        }
      },
      "execution_count": 2,
      "outputs": [
        {
          "output_type": "stream",
          "name": "stdout",
          "text": [
            "SCWT - Cluster 3\n",
            "TMT - Cluster 3\n",
            "DS - Cluster 2\n",
            "RAVLT - Cluster 2\n",
            "N-Back - Cluster 1\n",
            "GNGT - Cluster 1\n",
            "d2 - Cluster 1\n",
            "5dt - Cluster 1\n"
          ]
        },
        {
          "output_type": "stream",
          "name": "stderr",
          "text": [
            "/usr/local/lib/python3.10/dist-packages/sklearn/cluster/_kmeans.py:870: FutureWarning: The default value of `n_init` will change from 10 to 'auto' in 1.4. Set the value of `n_init` explicitly to suppress the warning\n",
            "  warnings.warn(\n"
          ]
        }
      ]
    },
    {
      "cell_type": "code",
      "source": [],
      "metadata": {
        "id": "JP5GHoZH1y1V"
      },
      "execution_count": null,
      "outputs": []
    }
  ],
  "metadata": {
    "colab": {
      "name": "Welcome To Colaboratory",
      "toc_visible": true,
      "provenance": [],
      "include_colab_link": true
    },
    "kernelspec": {
      "display_name": "Python 3",
      "name": "python3"
    }
  },
  "nbformat": 4,
  "nbformat_minor": 0
}